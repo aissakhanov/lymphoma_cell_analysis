{
  "cells": [
    {
      "cell_type": "code",
      "execution_count": 1,
      "metadata": {
        "id": "mktXISFHTS3N"
      },
      "outputs": [],
      "source": [
        "import numpy as np\n",
        "import matplotlib.pyplot as plt\n",
        "\n",
        "from skimage import data, io, img_as_ubyte\n",
        "from skimage.color import rgb2hed, hed2rgb\n",
        "from skimage.exposure import rescale_intensity\n",
        "from skimage.measure import regionprops_table\n",
        "from skimage.segmentation import find_boundaries, mark_boundaries\n",
        "import pandas as pd\n",
        "\n",
        "from glob import glob\n",
        "\n",
        "from stardist.models import StarDist2D \n",
        "from stardist.data import test_image_nuclei_2d\n",
        "from stardist.plot import render_label\n",
        "from csbdeep.utils import normalize"
      ]
    },
    {
      "cell_type": "code",
      "execution_count": 2,
      "metadata": {
        "id": "h-tzDCgVYfP2"
      },
      "outputs": [],
      "source": [
        "# Separate the individual stains from the IHC image\n",
        "def color_separate(ihc_rgb):\n",
        "\n",
        "    #Convert the RGB image to HED using the prebuilt skimage method\n",
        "    ihc_hed = rgb2hed(ihc_rgb)\n",
        "    \n",
        "    # Create an RGB image for each of the separated stains\n",
        "    #Convert them to ubyte for easy saving to drive as an image\n",
        "    null = np.zeros_like(ihc_hed[:, :, 0])\n",
        "    ihc_h = img_as_ubyte(hed2rgb(np.stack((ihc_hed[:, :, 0], null, null), axis=-1)))\n",
        "    ihc_e = img_as_ubyte(hed2rgb(np.stack((null, ihc_hed[:, :, 1], null), axis=-1)))\n",
        "    ihc_d = img_as_ubyte(hed2rgb(np.stack((null, null, ihc_hed[:, :, 2]), axis=-1)))\n",
        "\n",
        "    #Optional fun exercise of combining H and DAB stains into a single image with fluorescence look\n",
        "    \n",
        "    h = rescale_intensity(ihc_hed[:, :, 0], out_range=(0, 1),\n",
        "                          in_range=(0, np.percentile(ihc_hed[:, :, 0], 99)))\n",
        "    d = rescale_intensity(ihc_hed[:, :, 2], out_range=(0, 1),\n",
        "                          in_range=(0, np.percentile(ihc_hed[:, :, 2], 99)))\n",
        "\n",
        "# Cast the two channels into an RGB image, as the blue and green channels\n",
        "#Convert to ubyte for easy saving as image to local drive\n",
        "    zdh = img_as_ubyte(np.dstack((null, d, h))) #DAB in green and H in Blue\n",
        "\n",
        "    return (ihc_h, ihc_e, ihc_d, zdh)"
      ]
    },
    {
      "cell_type": "code",
      "execution_count": 3,
      "metadata": {},
      "outputs": [
        {
          "name": "stdout",
          "output_type": "stream",
          "text": [
            "There are 4 registered models for 'StarDist2D':\n",
            "\n",
            "Name                  Alias(es)\n",
            "────                  ─────────\n",
            "'2D_versatile_fluo'   'Versatile (fluorescent nuclei)'\n",
            "'2D_versatile_he'     'Versatile (H&E nuclei)'\n",
            "'2D_paper_dsb2018'    'DSB 2018 (from StarDist 2D paper)'\n",
            "'2D_demo'             None\n",
            "Found model '2D_versatile_he' for 'StarDist2D'.\n",
            "Loading network weights from 'weights_best.h5'.\n",
            "Loading thresholds from 'thresholds.json'.\n",
            "Using default values: prob_thresh=0.692478, nms_thresh=0.3.\n"
          ]
        }
      ],
      "source": [
        "# prints a list of available models \n",
        "StarDist2D.from_pretrained()\n",
        "model = StarDist2D.from_pretrained('2D_versatile_he')\n",
        "# model_2 = StarDist2D.from_pretrained('2D_versatile_fluo')"
      ]
    },
    {
      "attachments": {},
      "cell_type": "markdown",
      "metadata": {},
      "source": [
        "ANALYZE ALL DATA"
      ]
    },
    {
      "cell_type": "code",
      "execution_count": 4,
      "metadata": {},
      "outputs": [],
      "source": [
        "unlabel_img_dir = \"../data/morphology_data/cropped_images/\"\n",
        "unlabel_images = glob(unlabel_img_dir+\"*tif\")"
      ]
    },
    {
      "cell_type": "code",
      "execution_count": 14,
      "metadata": {},
      "outputs": [
        {
          "name": "stdout",
          "output_type": "stream",
          "text": [
            "1/1 [==============================] - 0s 77ms/step\n"
          ]
        },
        {
          "name": "stderr",
          "output_type": "stream",
          "text": [
            "Lossy conversion from float64 to uint8. Range [0, 1]. Convert image to uint8 prior to saving to suppress this warning.\n"
          ]
        },
        {
          "name": "stdout",
          "output_type": "stream",
          "text": [
            "1/1 [==============================] - 0s 79ms/step\n"
          ]
        },
        {
          "name": "stderr",
          "output_type": "stream",
          "text": [
            "Lossy conversion from float64 to uint8. Range [0, 1]. Convert image to uint8 prior to saving to suppress this warning.\n"
          ]
        },
        {
          "name": "stdout",
          "output_type": "stream",
          "text": [
            "1/1 [==============================] - 0s 60ms/step\n"
          ]
        },
        {
          "name": "stderr",
          "output_type": "stream",
          "text": [
            "Lossy conversion from float64 to uint8. Range [0, 1]. Convert image to uint8 prior to saving to suppress this warning.\n"
          ]
        },
        {
          "name": "stdout",
          "output_type": "stream",
          "text": [
            "1/1 [==============================] - 0s 156ms/step\n"
          ]
        },
        {
          "name": "stderr",
          "output_type": "stream",
          "text": [
            "Lossy conversion from float64 to uint8. Range [0, 1]. Convert image to uint8 prior to saving to suppress this warning.\n"
          ]
        },
        {
          "name": "stdout",
          "output_type": "stream",
          "text": [
            "1/1 [==============================] - 0s 148ms/step\n"
          ]
        },
        {
          "name": "stderr",
          "output_type": "stream",
          "text": [
            "Lossy conversion from float64 to uint8. Range [0, 1]. Convert image to uint8 prior to saving to suppress this warning.\n"
          ]
        },
        {
          "name": "stdout",
          "output_type": "stream",
          "text": [
            "1/1 [==============================] - 0s 169ms/step\n"
          ]
        },
        {
          "name": "stderr",
          "output_type": "stream",
          "text": [
            "Lossy conversion from float64 to uint8. Range [0, 1]. Convert image to uint8 prior to saving to suppress this warning.\n"
          ]
        },
        {
          "name": "stdout",
          "output_type": "stream",
          "text": [
            "1/1 [==============================] - 0s 161ms/step\n"
          ]
        },
        {
          "name": "stderr",
          "output_type": "stream",
          "text": [
            "Lossy conversion from float64 to uint8. Range [0, 1]. Convert image to uint8 prior to saving to suppress this warning.\n"
          ]
        }
      ],
      "source": [
        "stats = pd.DataFrame(columns = ['img', 'label', 'area', 'perimeter'])\n",
        "save_dir = '../data/morphology_data/cropped_auto_labeled/'\n",
        "for img in unlabel_images:\n",
        "    ihc_rgb=io.imread(img)\n",
        "    if ihc_rgb.shape[-1] == 4:\n",
        "        ihc_rgb = ihc_rgb[:, :, :3]\n",
        "    H,E,D,HD = color_separate(ihc_rgb)\n",
        "    H_labels, H_details = model.predict_instances(normalize(H))\n",
        "    marked = mark_boundaries(ihc_rgb, H_labels, color=(1,0,0))\n",
        "    fname = save_dir+img.split('\\\\')[1][:-4]+\"_SEGMENTED.jpeg\"\n",
        "    io.imsave(fname, marked, quality = 100)\n",
        "    H_props = regionprops_table(H_labels, H, \n",
        "                          properties=['label',\n",
        "                                      'area', 'perimeter'])\n",
        "    H_analysis_results = pd.DataFrame(H_props)\n",
        "    H_analysis_results['img'] = img.split('\\\\')[1]\n",
        "    stats = pd.concat([stats, H_analysis_results])\n",
        "stats.to_csv(save_dir+'measurements_from_stardist.csv', index=False)"
      ]
    }
  ],
  "metadata": {
    "colab": {
      "provenance": []
    },
    "kernelspec": {
      "display_name": "cv_research",
      "language": "python",
      "name": "python3"
    },
    "language_info": {
      "codemirror_mode": {
        "name": "ipython",
        "version": 3
      },
      "file_extension": ".py",
      "mimetype": "text/x-python",
      "name": "python",
      "nbconvert_exporter": "python",
      "pygments_lexer": "ipython3",
      "version": "3.10.9"
    },
    "vscode": {
      "interpreter": {
        "hash": "c59881663d9e5235110a82d82c85f8dba2e35a10d6fc03282f034e41de84bf9e"
      }
    }
  },
  "nbformat": 4,
  "nbformat_minor": 0
}
